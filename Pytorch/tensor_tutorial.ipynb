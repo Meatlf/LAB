{
  "nbformat": 4,
  "nbformat_minor": 0,
  "metadata": {
    "colab": {
      "name": "tensor_tutorial.ipynb",
      "version": "0.3.2",
      "provenance": [],
      "include_colab_link": true
    },
    "kernelspec": {
      "display_name": "Python 3",
      "language": "python",
      "name": "python3"
    }
  },
  "cells": [
    {
      "cell_type": "markdown",
      "metadata": {
        "id": "view-in-github",
        "colab_type": "text"
      },
      "source": [
        "<a href=\"https://colab.research.google.com/github/Meatlf/LAB/blob/master/Pytorch/tensor_tutorial.ipynb\" target=\"_parent\"><img src=\"https://colab.research.google.com/assets/colab-badge.svg\" alt=\"Open In Colab\"/></a>"
      ]
    },
    {
      "metadata": {
        "id": "_nlRXV_1-aeS",
        "colab_type": "code",
        "colab": {}
      },
      "cell_type": "code",
      "source": [
        "%matplotlib inline"
      ],
      "execution_count": 0,
      "outputs": []
    },
    {
      "metadata": {
        "id": "Jui42Jd4-aeW",
        "colab_type": "text"
      },
      "cell_type": "markdown",
      "source": [
        "\n",
        "What is PyTorch?\n",
        "================\n",
        "\n",
        "It’s a Python-based scientific computing package targeted at two sets of\n",
        "audiences:\n",
        "\n",
        "-  A replacement for NumPy to use the power of GPUs\n",
        "-  a deep learning research platform that provides maximum flexibility\n",
        "   and speed\n",
        "\n",
        "Getting Started\n",
        "---------------\n",
        "\n",
        "Tensors\n",
        "^^^^^^^\n",
        "\n",
        "Tensors are similar to NumPy’s ndarrays, with the addition being that\n",
        "Tensors can also be used on a GPU to accelerate computing.\n",
        "\n"
      ]
    },
    {
      "metadata": {
        "id": "Xb9SofPK-aeX",
        "colab_type": "code",
        "colab": {}
      },
      "cell_type": "code",
      "source": [
        "from __future__ import print_function\n",
        "import torch"
      ],
      "execution_count": 0,
      "outputs": []
    },
    {
      "metadata": {
        "id": "MVAbfgJ7-aeZ",
        "colab_type": "text"
      },
      "cell_type": "markdown",
      "source": [
        "Construct a 5x3 matrix, uninitialized:\n",
        "\n"
      ]
    },
    {
      "metadata": {
        "id": "KMXSt3pu-aea",
        "colab_type": "code",
        "outputId": "57da433c-0280-44a8-df65-e9bc2682e0ad",
        "colab": {
          "base_uri": "https://localhost:8080/",
          "height": 107
        }
      },
      "cell_type": "code",
      "source": [
        "x = torch.empty(5, 3)\n",
        "print(x)"
      ],
      "execution_count": 0,
      "outputs": [
        {
          "output_type": "stream",
          "text": [
            "tensor([[1.7974e-36, 0.0000e+00, 0.0000e+00],\n",
            "        [0.0000e+00, 0.0000e+00, 0.0000e+00],\n",
            "        [0.0000e+00, 0.0000e+00, 0.0000e+00],\n",
            "        [0.0000e+00, 0.0000e+00, 0.0000e+00],\n",
            "        [0.0000e+00, 0.0000e+00, 0.0000e+00]])\n"
          ],
          "name": "stdout"
        }
      ]
    },
    {
      "metadata": {
        "id": "EAKzuw99-aec",
        "colab_type": "text"
      },
      "cell_type": "markdown",
      "source": [
        "Construct a randomly initialized matrix:\n",
        "\n"
      ]
    },
    {
      "metadata": {
        "id": "7y4TwFcq-aec",
        "colab_type": "code",
        "outputId": "7f594329-732d-4eb7-eecc-82d581837fca",
        "colab": {
          "base_uri": "https://localhost:8080/",
          "height": 107
        }
      },
      "cell_type": "code",
      "source": [
        "x = torch.rand(5, 3)\n",
        "print(x)"
      ],
      "execution_count": 0,
      "outputs": [
        {
          "output_type": "stream",
          "text": [
            "tensor([[0.6397, 0.4231, 0.8169],\n",
            "        [0.9908, 0.3605, 0.9291],\n",
            "        [0.6521, 0.9793, 0.8204],\n",
            "        [0.3446, 0.4892, 0.8085],\n",
            "        [0.1033, 0.6436, 0.4486]])\n"
          ],
          "name": "stdout"
        }
      ]
    },
    {
      "metadata": {
        "id": "ovt2QwlO-aee",
        "colab_type": "text"
      },
      "cell_type": "markdown",
      "source": [
        "Construct a matrix filled zeros and of dtype long:\n",
        "\n"
      ]
    },
    {
      "metadata": {
        "id": "Y0pDShuM-aef",
        "colab_type": "code",
        "outputId": "8bdd6c0e-685a-4e6f-ec11-7b037f85f2c3",
        "colab": {
          "base_uri": "https://localhost:8080/",
          "height": 107
        }
      },
      "cell_type": "code",
      "source": [
        "x = torch.zeros(5, 3, dtype=torch.long)\n",
        "print(x)"
      ],
      "execution_count": 0,
      "outputs": [
        {
          "output_type": "stream",
          "text": [
            "tensor([[0, 0, 0],\n",
            "        [0, 0, 0],\n",
            "        [0, 0, 0],\n",
            "        [0, 0, 0],\n",
            "        [0, 0, 0]])\n"
          ],
          "name": "stdout"
        }
      ]
    },
    {
      "metadata": {
        "id": "yi8fOJft-aeh",
        "colab_type": "text"
      },
      "cell_type": "markdown",
      "source": [
        "Construct a tensor directly from data:\n",
        "\n"
      ]
    },
    {
      "metadata": {
        "id": "pxfvbzdE-aei",
        "colab_type": "code",
        "outputId": "d06c6564-3dba-49ba-808e-bf17802f4a0b",
        "colab": {
          "base_uri": "https://localhost:8080/",
          "height": 35
        }
      },
      "cell_type": "code",
      "source": [
        "x = torch.tensor([5.5, 3])\n",
        "print(x)"
      ],
      "execution_count": 0,
      "outputs": [
        {
          "output_type": "stream",
          "text": [
            "tensor([5.5000, 3.0000])\n"
          ],
          "name": "stdout"
        }
      ]
    },
    {
      "metadata": {
        "id": "Lm1amO8g-aek",
        "colab_type": "text"
      },
      "cell_type": "markdown",
      "source": [
        "or create a tensor based on an existing tensor. These methods\n",
        "will reuse properties of the input tensor, e.g. dtype, unless\n",
        "new values are provided by user\n",
        "\n"
      ]
    },
    {
      "metadata": {
        "id": "p694ASAU-aem",
        "colab_type": "code",
        "outputId": "4a895a53-8735-4b47-ce5c-b45c1415fe43",
        "colab": {
          "base_uri": "https://localhost:8080/",
          "height": 197
        }
      },
      "cell_type": "code",
      "source": [
        "x = x.new_ones(5, 3, dtype=torch.double)      # new_* methods take in sizes\n",
        "print(x)\n",
        "\n",
        "x = torch.randn_like(x, dtype=torch.float)    # override dtype!\n",
        "print(x)                                      # result has the same size"
      ],
      "execution_count": 0,
      "outputs": [
        {
          "output_type": "stream",
          "text": [
            "tensor([[1., 1., 1.],\n",
            "        [1., 1., 1.],\n",
            "        [1., 1., 1.],\n",
            "        [1., 1., 1.],\n",
            "        [1., 1., 1.]], dtype=torch.float64)\n",
            "tensor([[-1.0727, -0.2418, -0.8953],\n",
            "        [ 1.3336, -1.3618,  0.3682],\n",
            "        [-0.3112,  0.4077,  0.2255],\n",
            "        [-1.8402, -0.4036, -0.4757],\n",
            "        [-0.1126, -1.1743, -1.0218]])\n"
          ],
          "name": "stdout"
        }
      ]
    },
    {
      "metadata": {
        "id": "nu7QvIpG-aeo",
        "colab_type": "text"
      },
      "cell_type": "markdown",
      "source": [
        "Get its size:\n",
        "\n"
      ]
    },
    {
      "metadata": {
        "id": "4OYUdTij-aep",
        "colab_type": "code",
        "outputId": "188fb850-9a90-4af1-f014-75833ea5037c",
        "colab": {
          "base_uri": "https://localhost:8080/",
          "height": 35
        }
      },
      "cell_type": "code",
      "source": [
        "print(x.size())"
      ],
      "execution_count": 0,
      "outputs": [
        {
          "output_type": "stream",
          "text": [
            "torch.Size([5, 3])\n"
          ],
          "name": "stdout"
        }
      ]
    },
    {
      "metadata": {
        "id": "7hq6iaG6-aes",
        "colab_type": "text"
      },
      "cell_type": "markdown",
      "source": [
        "<div class=\"alert alert-info\"><h4>Note</h4><p>``torch.Size`` is in fact a tuple, so it supports all tuple operations.</p></div>\n",
        "\n",
        "Operations\n",
        "^^^^^^^^^^\n",
        "There are multiple syntaxes for operations. In the following\n",
        "example, we will take a look at the addition operation.\n",
        "\n",
        "Addition: syntax 1\n",
        "\n"
      ]
    },
    {
      "metadata": {
        "id": "hAGWbLbV-aet",
        "colab_type": "code",
        "outputId": "78a47767-6205-4dd5-f20e-dfbbc0e51a9e",
        "colab": {
          "base_uri": "https://localhost:8080/",
          "height": 107
        }
      },
      "cell_type": "code",
      "source": [
        "y = torch.rand(5, 3)\n",
        "print(x + y)"
      ],
      "execution_count": 0,
      "outputs": [
        {
          "output_type": "stream",
          "text": [
            "tensor([[-0.1265,  0.1690, -0.0923],\n",
            "        [ 1.4699, -1.2805,  0.4636],\n",
            "        [-0.0853,  0.6237,  0.2560],\n",
            "        [-1.6913,  0.0033,  0.2916],\n",
            "        [ 0.7794, -0.5801, -0.2822]])\n"
          ],
          "name": "stdout"
        }
      ]
    },
    {
      "metadata": {
        "id": "a_O6T7Nm-aev",
        "colab_type": "text"
      },
      "cell_type": "markdown",
      "source": [
        "Addition: syntax 2\n",
        "\n"
      ]
    },
    {
      "metadata": {
        "id": "m7hDekmL-aew",
        "colab_type": "code",
        "outputId": "105a9906-c831-460f-ecd7-b3f660d97c22",
        "colab": {
          "base_uri": "https://localhost:8080/",
          "height": 107
        }
      },
      "cell_type": "code",
      "source": [
        "print(torch.add(x, y))"
      ],
      "execution_count": 0,
      "outputs": [
        {
          "output_type": "stream",
          "text": [
            "tensor([[-0.1265,  0.1690, -0.0923],\n",
            "        [ 1.4699, -1.2805,  0.4636],\n",
            "        [-0.0853,  0.6237,  0.2560],\n",
            "        [-1.6913,  0.0033,  0.2916],\n",
            "        [ 0.7794, -0.5801, -0.2822]])\n"
          ],
          "name": "stdout"
        }
      ]
    },
    {
      "metadata": {
        "id": "X6YlQf3M-aez",
        "colab_type": "text"
      },
      "cell_type": "markdown",
      "source": [
        "Addition: providing an output tensor as argument\n",
        "\n"
      ]
    },
    {
      "metadata": {
        "id": "mLWIgOzZ-ae0",
        "colab_type": "code",
        "outputId": "e891058e-d1d5-432a-bd5f-04009705adbf",
        "colab": {
          "base_uri": "https://localhost:8080/",
          "height": 107
        }
      },
      "cell_type": "code",
      "source": [
        "result = torch.empty(5, 3)\n",
        "torch.add(x, y, out=result)\n",
        "print(result)"
      ],
      "execution_count": 0,
      "outputs": [
        {
          "output_type": "stream",
          "text": [
            "tensor([[-0.1265,  0.1690, -0.0923],\n",
            "        [ 1.4699, -1.2805,  0.4636],\n",
            "        [-0.0853,  0.6237,  0.2560],\n",
            "        [-1.6913,  0.0033,  0.2916],\n",
            "        [ 0.7794, -0.5801, -0.2822]])\n"
          ],
          "name": "stdout"
        }
      ]
    },
    {
      "metadata": {
        "id": "4atwA_Kh-ae1",
        "colab_type": "text"
      },
      "cell_type": "markdown",
      "source": [
        "Addition: in-place\n",
        "\n"
      ]
    },
    {
      "metadata": {
        "id": "DKrmuCP9-ae2",
        "colab_type": "code",
        "outputId": "9f6bf9c6-ca43-415e-aae8-19febd61624a",
        "colab": {
          "base_uri": "https://localhost:8080/",
          "height": 107
        }
      },
      "cell_type": "code",
      "source": [
        "# adds x to y\n",
        "y.add_(x)\n",
        "print(y)"
      ],
      "execution_count": 0,
      "outputs": [
        {
          "output_type": "stream",
          "text": [
            "tensor([[-0.1265,  0.1690, -0.0923],\n",
            "        [ 1.4699, -1.2805,  0.4636],\n",
            "        [-0.0853,  0.6237,  0.2560],\n",
            "        [-1.6913,  0.0033,  0.2916],\n",
            "        [ 0.7794, -0.5801, -0.2822]])\n"
          ],
          "name": "stdout"
        }
      ]
    },
    {
      "metadata": {
        "id": "H3SV5tov-ae8",
        "colab_type": "text"
      },
      "cell_type": "markdown",
      "source": [
        "<div class=\"alert alert-info\"><h4>Note</h4><p>Any operation that mutates a tensor in-place is post-fixed with an ``_``.\n",
        "    For example: ``x.copy_(y)``, ``x.t_()``, will change ``x``.</p></div>\n",
        "\n",
        "You can use standard NumPy-like indexing with all bells and whistles!\n",
        "\n"
      ]
    },
    {
      "metadata": {
        "id": "jGvw4Hq6-ae9",
        "colab_type": "code",
        "outputId": "08449160-f519-4009-f12b-54e5d5fe9702",
        "colab": {
          "base_uri": "https://localhost:8080/",
          "height": 287
        }
      },
      "cell_type": "code",
      "source": [
        "print(\"x:\")\n",
        "print(x)\n",
        "print(\"\\n\")\n",
        "\n",
        "print(\"x[:, 0]:\")\n",
        "print(x[:, 0]) \n",
        "print(\"\\n\")\n",
        "\n",
        "print(\"x[:, 1]:\")\n",
        "print(x[:, 1]) \n",
        "print(\"\\n\")"
      ],
      "execution_count": 0,
      "outputs": [
        {
          "output_type": "stream",
          "text": [
            "x:\n",
            "tensor([[-0.2546, -2.1409, -0.1851,  0.9679],\n",
            "        [-0.6693,  1.0593,  1.4274, -0.5120],\n",
            "        [-1.1988, -0.4282, -0.5412, -0.3887],\n",
            "        [-0.9143, -0.0767, -0.8813,  0.7076]])\n",
            "\n",
            "\n",
            "x[:, 0]:\n",
            "tensor([-0.2546, -0.6693, -1.1988, -0.9143])\n",
            "\n",
            "\n",
            "x[:, 1]:\n",
            "tensor([-2.1409,  1.0593, -0.4282, -0.0767])\n",
            "\n",
            "\n"
          ],
          "name": "stdout"
        }
      ]
    },
    {
      "metadata": {
        "id": "HCChFcH8-afA",
        "colab_type": "text"
      },
      "cell_type": "markdown",
      "source": [
        "Resizing: If you want to resize/reshape tensor, you can use ``torch.view``:\n",
        "\n"
      ]
    },
    {
      "metadata": {
        "id": "Tt5jP0xD-afB",
        "colab_type": "code",
        "outputId": "2997e0dd-dc6e-4f99-be1f-ed5a520178d0",
        "colab": {
          "base_uri": "https://localhost:8080/",
          "height": 215
        }
      },
      "cell_type": "code",
      "source": [
        "x = torch.randn(4, 4)\n",
        "print(x)\n",
        "print(\"\\n\")\n",
        "y = x.view(16)\n",
        "print(y)\n",
        "print(\"\\n\")\n",
        "z = x.view(-1, 8)  # the size -1 is inferred from other dimensions\n",
        "print(x.size(), y.size(), z.size())"
      ],
      "execution_count": 0,
      "outputs": [
        {
          "output_type": "stream",
          "text": [
            "tensor([[ 1.4693,  2.4447,  1.7806, -0.9468],\n",
            "        [ 0.0674, -0.0333, -0.5250,  0.8646],\n",
            "        [-1.5991, -1.1130, -1.3248, -0.3086],\n",
            "        [ 0.2551,  1.4613, -0.0225,  1.5430]])\n",
            "\n",
            "\n",
            "tensor([ 1.4693,  2.4447,  1.7806, -0.9468,  0.0674, -0.0333, -0.5250,  0.8646,\n",
            "        -1.5991, -1.1130, -1.3248, -0.3086,  0.2551,  1.4613, -0.0225,  1.5430])\n",
            "\n",
            "\n",
            "torch.Size([4, 4]) torch.Size([16]) torch.Size([2, 8])\n"
          ],
          "name": "stdout"
        }
      ]
    },
    {
      "metadata": {
        "id": "sZyoN02b-afE",
        "colab_type": "text"
      },
      "cell_type": "markdown",
      "source": [
        "If you have a one element tensor, use ``.item()`` to get the value as a\n",
        "Python number\n",
        "\n"
      ]
    },
    {
      "metadata": {
        "id": "pM6QL6PI-afF",
        "colab_type": "code",
        "outputId": "e88ee90d-2b2e-46d5-b524-f221e7e8aadf",
        "colab": {
          "base_uri": "https://localhost:8080/",
          "height": 53
        }
      },
      "cell_type": "code",
      "source": [
        "x = torch.randn(1)\n",
        "print(x)\n",
        "print(x.item())"
      ],
      "execution_count": 0,
      "outputs": [
        {
          "output_type": "stream",
          "text": [
            "tensor([1.4230])\n",
            "1.4230009317398071\n"
          ],
          "name": "stdout"
        }
      ]
    },
    {
      "metadata": {
        "id": "gYpZwyW8-afH",
        "colab_type": "text"
      },
      "cell_type": "markdown",
      "source": [
        "**Read later:**\n",
        "\n",
        "\n",
        "  100+ Tensor operations, including transposing, indexing, slicing,\n",
        "  mathematical operations, linear algebra, random numbers, etc.,\n",
        "  are described\n",
        "  `here <http://pytorch.org/docs/torch>`_.\n",
        "\n",
        "NumPy Bridge\n",
        "------------\n",
        "\n",
        "Converting a Torch Tensor to a NumPy array and vice versa is a breeze.\n",
        "\n",
        "The Torch Tensor and NumPy array will share their underlying memory\n",
        "locations, and changing one will change the other.\n",
        "\n",
        "Converting a Torch Tensor to a NumPy Array\n",
        "^^^^^^^^^^^^^^^^^^^^^^^^^^^^^^^^^^^^^^^^^^\n",
        "\n"
      ]
    },
    {
      "metadata": {
        "id": "NbpSOKPL-afI",
        "colab_type": "code",
        "outputId": "f83ebc80-c96e-418a-8c1f-2ceb60d3db7a",
        "colab": {
          "base_uri": "https://localhost:8080/",
          "height": 35
        }
      },
      "cell_type": "code",
      "source": [
        "a = torch.ones(5)\n",
        "print(a)"
      ],
      "execution_count": 0,
      "outputs": [
        {
          "output_type": "stream",
          "text": [
            "tensor([1., 1., 1., 1., 1.])\n"
          ],
          "name": "stdout"
        }
      ]
    },
    {
      "metadata": {
        "id": "XTeLzlLE-afK",
        "colab_type": "code",
        "colab": {}
      },
      "cell_type": "code",
      "source": [
        "b = a.numpy()\n",
        "print(b)"
      ],
      "execution_count": 0,
      "outputs": []
    },
    {
      "metadata": {
        "id": "JASF4fEp-afM",
        "colab_type": "text"
      },
      "cell_type": "markdown",
      "source": [
        "See how the numpy array changed in value.\n",
        "\n"
      ]
    },
    {
      "metadata": {
        "id": "2Zgen1uh-afN",
        "colab_type": "code",
        "colab": {}
      },
      "cell_type": "code",
      "source": [
        "a.add_(1)\n",
        "print(a)\n",
        "print(b)"
      ],
      "execution_count": 0,
      "outputs": []
    },
    {
      "metadata": {
        "id": "aavv_9UE-afQ",
        "colab_type": "text"
      },
      "cell_type": "markdown",
      "source": [
        "Converting NumPy Array to Torch Tensor\n",
        "^^^^^^^^^^^^^^^^^^^^^^^^^^^^^^^^^^^^^^\n",
        "See how changing the np array changed the Torch Tensor automatically\n",
        "\n"
      ]
    },
    {
      "metadata": {
        "id": "dBh2tVUU-afR",
        "colab_type": "code",
        "colab": {}
      },
      "cell_type": "code",
      "source": [
        "import numpy as np\n",
        "a = np.ones(5)\n",
        "b = torch.from_numpy(a)\n",
        "np.add(a, 1, out=a)\n",
        "print(a)\n",
        "print(b)"
      ],
      "execution_count": 0,
      "outputs": []
    },
    {
      "metadata": {
        "id": "3Xx162BG-afT",
        "colab_type": "text"
      },
      "cell_type": "markdown",
      "source": [
        "All the Tensors on the CPU except a CharTensor support converting to\n",
        "NumPy and back.\n",
        "\n",
        "CUDA Tensors\n",
        "------------\n",
        "\n",
        "Tensors can be moved onto any device using the ``.to`` method.\n",
        "\n"
      ]
    },
    {
      "metadata": {
        "id": "3UBy-wN7-afU",
        "colab_type": "code",
        "colab": {}
      },
      "cell_type": "code",
      "source": [
        "# let us run this cell only if CUDA is available\n",
        "# We will use ``torch.device`` objects to move tensors in and out of GPU\n",
        "if torch.cuda.is_available():\n",
        "    device = torch.device(\"cuda\")          # a CUDA device object\n",
        "    y = torch.ones_like(x, device=device)  # directly create a tensor on GPU\n",
        "    x = x.to(device)                       # or just use strings ``.to(\"cuda\")``\n",
        "    z = x + y\n",
        "    print(z)\n",
        "    print(z.to(\"cpu\", torch.double))       # ``.to`` can also change dtype together!"
      ],
      "execution_count": 0,
      "outputs": []
    }
  ]
}