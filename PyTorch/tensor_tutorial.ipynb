{
  "nbformat": 4,
  "nbformat_minor": 0,
  "metadata": {
    "colab": {
      "name": "tensor_tutorial.ipynb",
      "version": "0.3.2",
      "provenance": [],
      "include_colab_link": true
    },
    "kernelspec": {
      "name": "python3",
      "display_name": "Python 3"
    },
    "accelerator": "GPU"
  },
  "cells": [
    {
      "cell_type": "markdown",
      "metadata": {
        "id": "view-in-github",
        "colab_type": "text"
      },
      "source": [
        "<a href=\"https://colab.research.google.com/github/Meatlf/LAB/blob/master/PyTorch/tensor_tutorial.ipynb\" target=\"_parent\"><img src=\"https://colab.research.google.com/assets/colab-badge.svg\" alt=\"Open In Colab\"/></a>"
      ]
    },
    {
      "metadata": {
        "id": "_nlRXV_1-aeS",
        "colab_type": "code",
        "colab": {}
      },
      "cell_type": "code",
      "source": [
        "%matplotlib inline"
      ],
      "execution_count": 0,
      "outputs": []
    },
    {
      "metadata": {
        "id": "Jui42Jd4-aeW",
        "colab_type": "text"
      },
      "cell_type": "markdown",
      "source": [
        "\n",
        "What is PyTorch?\n",
        "================\n",
        "\n",
        "It’s a Python-based scientific computing package targeted at two sets of\n",
        "audiences:\n",
        "\n",
        "-  A replacement for NumPy to use the power of GPUs\n",
        "-  a deep learning research platform that provides maximum flexibility\n",
        "   and speed\n",
        "\n",
        "Getting Started\n",
        "---------------\n",
        "\n",
        "Tensors\n",
        "^^^^^^^\n",
        "\n",
        "Tensors are similar to NumPy’s ndarrays, with the addition being that\n",
        "Tensors can also be used on a GPU to accelerate computing.\n",
        "\n"
      ]
    },
    {
      "metadata": {
        "id": "Xb9SofPK-aeX",
        "colab_type": "code",
        "colab": {}
      },
      "cell_type": "code",
      "source": [
        "from __future__ import print_function\n",
        "import torch"
      ],
      "execution_count": 0,
      "outputs": []
    },
    {
      "metadata": {
        "id": "MVAbfgJ7-aeZ",
        "colab_type": "text"
      },
      "cell_type": "markdown",
      "source": [
        "Construct a 5x3 matrix, uninitialized:\n",
        "\n"
      ]
    },
    {
      "metadata": {
        "id": "KMXSt3pu-aea",
        "colab_type": "code",
        "outputId": "a54469a3-644f-4af9-f5b5-49765bc43693",
        "colab": {
          "base_uri": "https://localhost:8080/",
          "height": 107
        }
      },
      "cell_type": "code",
      "source": [
        "x = torch.empty(5, 3)\n",
        "print(x)"
      ],
      "execution_count": 4,
      "outputs": [
        {
          "output_type": "stream",
          "text": [
            "tensor([[0., 0., 0.],\n",
            "        [0., 0., 0.],\n",
            "        [0., 0., 0.],\n",
            "        [0., 0., 0.],\n",
            "        [0., 0., 0.]])\n"
          ],
          "name": "stdout"
        }
      ]
    },
    {
      "metadata": {
        "id": "EAKzuw99-aec",
        "colab_type": "text"
      },
      "cell_type": "markdown",
      "source": [
        "Construct a randomly initialized matrix:\n",
        "\n"
      ]
    },
    {
      "metadata": {
        "id": "7y4TwFcq-aec",
        "colab_type": "code",
        "outputId": "6ab16656-655e-4013-ab87-5153555d39a1",
        "colab": {
          "base_uri": "https://localhost:8080/",
          "height": 107
        }
      },
      "cell_type": "code",
      "source": [
        "x = torch.rand(5, 3)\n",
        "print(x)"
      ],
      "execution_count": 5,
      "outputs": [
        {
          "output_type": "stream",
          "text": [
            "tensor([[0.3202, 0.9479, 0.4532],\n",
            "        [0.8204, 0.7232, 0.5231],\n",
            "        [0.9037, 0.2556, 0.8253],\n",
            "        [0.3308, 0.3970, 0.5722],\n",
            "        [0.0349, 0.3849, 0.3721]])\n"
          ],
          "name": "stdout"
        }
      ]
    },
    {
      "metadata": {
        "id": "ovt2QwlO-aee",
        "colab_type": "text"
      },
      "cell_type": "markdown",
      "source": [
        "Construct a matrix filled zeros and of dtype long:\n",
        "\n"
      ]
    },
    {
      "metadata": {
        "id": "Y0pDShuM-aef",
        "colab_type": "code",
        "outputId": "92ad8187-dbbf-4f50-a126-129979bbe102",
        "colab": {
          "base_uri": "https://localhost:8080/",
          "height": 107
        }
      },
      "cell_type": "code",
      "source": [
        "x = torch.zeros(5, 3, dtype=torch.long)\n",
        "print(x)"
      ],
      "execution_count": 6,
      "outputs": [
        {
          "output_type": "stream",
          "text": [
            "tensor([[0, 0, 0],\n",
            "        [0, 0, 0],\n",
            "        [0, 0, 0],\n",
            "        [0, 0, 0],\n",
            "        [0, 0, 0]])\n"
          ],
          "name": "stdout"
        }
      ]
    },
    {
      "metadata": {
        "id": "yi8fOJft-aeh",
        "colab_type": "text"
      },
      "cell_type": "markdown",
      "source": [
        "Construct a tensor directly from data:\n",
        "\n"
      ]
    },
    {
      "metadata": {
        "id": "pxfvbzdE-aei",
        "colab_type": "code",
        "outputId": "fca4cf7e-12f8-4102-d3e4-26a263e714a7",
        "colab": {
          "base_uri": "https://localhost:8080/",
          "height": 35
        }
      },
      "cell_type": "code",
      "source": [
        "x = torch.tensor([5.5, 3])\n",
        "print(x)"
      ],
      "execution_count": 7,
      "outputs": [
        {
          "output_type": "stream",
          "text": [
            "tensor([5.5000, 3.0000])\n"
          ],
          "name": "stdout"
        }
      ]
    },
    {
      "metadata": {
        "id": "Lm1amO8g-aek",
        "colab_type": "text"
      },
      "cell_type": "markdown",
      "source": [
        "or create a tensor based on an existing tensor. These methods\n",
        "will reuse properties of the input tensor, e.g. dtype, unless\n",
        "new values are provided by user\n",
        "\n"
      ]
    },
    {
      "metadata": {
        "id": "p694ASAU-aem",
        "colab_type": "code",
        "outputId": "df5d2047-b2f1-41e4-de30-6c7263a357f2",
        "colab": {
          "base_uri": "https://localhost:8080/",
          "height": 197
        }
      },
      "cell_type": "code",
      "source": [
        "x = x.new_ones(5, 3, dtype=torch.double)      # new_* methods take in sizes\n",
        "print(x)\n",
        "\n",
        "x = torch.randn_like(x, dtype=torch.float)    # override dtype!\n",
        "print(x)                                      # result has the same size"
      ],
      "execution_count": 8,
      "outputs": [
        {
          "output_type": "stream",
          "text": [
            "tensor([[1., 1., 1.],\n",
            "        [1., 1., 1.],\n",
            "        [1., 1., 1.],\n",
            "        [1., 1., 1.],\n",
            "        [1., 1., 1.]], dtype=torch.float64)\n",
            "tensor([[-0.4035, -1.4330, -0.7647],\n",
            "        [-0.3564, -1.3759,  0.2197],\n",
            "        [ 0.9576, -0.3695, -0.0897],\n",
            "        [-1.1422, -0.0755,  0.8263],\n",
            "        [-1.1017, -0.1432, -0.4894]])\n"
          ],
          "name": "stdout"
        }
      ]
    },
    {
      "metadata": {
        "id": "nu7QvIpG-aeo",
        "colab_type": "text"
      },
      "cell_type": "markdown",
      "source": [
        "Get its size:\n",
        "\n"
      ]
    },
    {
      "metadata": {
        "id": "4OYUdTij-aep",
        "colab_type": "code",
        "outputId": "97c58851-404a-4895-a8da-140454da91d6",
        "colab": {
          "base_uri": "https://localhost:8080/",
          "height": 35
        }
      },
      "cell_type": "code",
      "source": [
        "print(x.size())"
      ],
      "execution_count": 9,
      "outputs": [
        {
          "output_type": "stream",
          "text": [
            "torch.Size([5, 3])\n"
          ],
          "name": "stdout"
        }
      ]
    },
    {
      "metadata": {
        "id": "7hq6iaG6-aes",
        "colab_type": "text"
      },
      "cell_type": "markdown",
      "source": [
        "<div class=\"alert alert-info\"><h4>Note</h4><p>``torch.Size`` is in fact a tuple, so it supports all tuple operations.</p></div>\n",
        "\n",
        "Operations\n",
        "^^^^^^^^^^\n",
        "There are multiple syntaxes for operations. In the following\n",
        "example, we will take a look at the addition operation.\n",
        "\n",
        "Addition: syntax 1\n",
        "\n"
      ]
    },
    {
      "metadata": {
        "id": "hAGWbLbV-aet",
        "colab_type": "code",
        "outputId": "164a461c-f2fb-4433-927c-7e37f00b9d7a",
        "colab": {
          "base_uri": "https://localhost:8080/",
          "height": 107
        }
      },
      "cell_type": "code",
      "source": [
        "y = torch.rand(5, 3)\n",
        "print(x + y)"
      ],
      "execution_count": 10,
      "outputs": [
        {
          "output_type": "stream",
          "text": [
            "tensor([[ 0.5659, -0.8353,  0.2045],\n",
            "        [ 0.1011, -0.8638,  0.6536],\n",
            "        [ 1.1351,  0.0907,  0.4673],\n",
            "        [-0.9871,  0.2350,  1.4739],\n",
            "        [-0.5758,  0.3955, -0.3644]])\n"
          ],
          "name": "stdout"
        }
      ]
    },
    {
      "metadata": {
        "id": "a_O6T7Nm-aev",
        "colab_type": "text"
      },
      "cell_type": "markdown",
      "source": [
        "Addition: syntax 2\n",
        "\n"
      ]
    },
    {
      "metadata": {
        "id": "m7hDekmL-aew",
        "colab_type": "code",
        "outputId": "43e68990-2c83-42bc-e226-16ce6bd1185e",
        "colab": {
          "base_uri": "https://localhost:8080/",
          "height": 107
        }
      },
      "cell_type": "code",
      "source": [
        "print(torch.add(x, y))"
      ],
      "execution_count": 11,
      "outputs": [
        {
          "output_type": "stream",
          "text": [
            "tensor([[ 0.5659, -0.8353,  0.2045],\n",
            "        [ 0.1011, -0.8638,  0.6536],\n",
            "        [ 1.1351,  0.0907,  0.4673],\n",
            "        [-0.9871,  0.2350,  1.4739],\n",
            "        [-0.5758,  0.3955, -0.3644]])\n"
          ],
          "name": "stdout"
        }
      ]
    },
    {
      "metadata": {
        "id": "X6YlQf3M-aez",
        "colab_type": "text"
      },
      "cell_type": "markdown",
      "source": [
        "Addition: providing an output tensor as argument\n",
        "\n"
      ]
    },
    {
      "metadata": {
        "id": "mLWIgOzZ-ae0",
        "colab_type": "code",
        "outputId": "796f7bd9-2642-48b6-bc39-df931c27529f",
        "colab": {
          "base_uri": "https://localhost:8080/",
          "height": 107
        }
      },
      "cell_type": "code",
      "source": [
        "result = torch.empty(5, 3)\n",
        "torch.add(x, y, out=result)\n",
        "print(result)"
      ],
      "execution_count": 12,
      "outputs": [
        {
          "output_type": "stream",
          "text": [
            "tensor([[ 0.5659, -0.8353,  0.2045],\n",
            "        [ 0.1011, -0.8638,  0.6536],\n",
            "        [ 1.1351,  0.0907,  0.4673],\n",
            "        [-0.9871,  0.2350,  1.4739],\n",
            "        [-0.5758,  0.3955, -0.3644]])\n"
          ],
          "name": "stdout"
        }
      ]
    },
    {
      "metadata": {
        "id": "4atwA_Kh-ae1",
        "colab_type": "text"
      },
      "cell_type": "markdown",
      "source": [
        "Addition: in-place\n",
        "\n"
      ]
    },
    {
      "metadata": {
        "id": "DKrmuCP9-ae2",
        "colab_type": "code",
        "outputId": "05fde2c9-1210-40a8-8fa0-ced062de0df6",
        "colab": {
          "base_uri": "https://localhost:8080/",
          "height": 107
        }
      },
      "cell_type": "code",
      "source": [
        "# adds x to y\n",
        "y.add_(x)\n",
        "print(y)"
      ],
      "execution_count": 13,
      "outputs": [
        {
          "output_type": "stream",
          "text": [
            "tensor([[ 0.5659, -0.8353,  0.2045],\n",
            "        [ 0.1011, -0.8638,  0.6536],\n",
            "        [ 1.1351,  0.0907,  0.4673],\n",
            "        [-0.9871,  0.2350,  1.4739],\n",
            "        [-0.5758,  0.3955, -0.3644]])\n"
          ],
          "name": "stdout"
        }
      ]
    },
    {
      "metadata": {
        "id": "H3SV5tov-ae8",
        "colab_type": "text"
      },
      "cell_type": "markdown",
      "source": [
        "<div class=\"alert alert-info\"><h4>Note</h4><p>Any operation that mutates a tensor in-place is post-fixed with an ``_``.\n",
        "    For example: ``x.copy_(y)``, ``x.t_()``, will change ``x``.</p></div>\n",
        "\n",
        "You can use standard NumPy-like indexing with all bells and whistles!\n",
        "\n"
      ]
    },
    {
      "metadata": {
        "id": "jGvw4Hq6-ae9",
        "colab_type": "code",
        "outputId": "94e57af4-cbce-4176-8f84-955d1cf08197",
        "colab": {
          "base_uri": "https://localhost:8080/",
          "height": 305
        }
      },
      "cell_type": "code",
      "source": [
        "print(\"x:\")\n",
        "print(x)\n",
        "print(\"\\n\")\n",
        "\n",
        "print(\"x[:, 0]:\")\n",
        "print(x[:, 0]) \n",
        "print(\"\\n\")\n",
        "\n",
        "print(\"x[:, 1]:\")\n",
        "print(x[:, 1]) \n",
        "print(\"\\n\")"
      ],
      "execution_count": 14,
      "outputs": [
        {
          "output_type": "stream",
          "text": [
            "x:\n",
            "tensor([[-0.4035, -1.4330, -0.7647],\n",
            "        [-0.3564, -1.3759,  0.2197],\n",
            "        [ 0.9576, -0.3695, -0.0897],\n",
            "        [-1.1422, -0.0755,  0.8263],\n",
            "        [-1.1017, -0.1432, -0.4894]])\n",
            "\n",
            "\n",
            "x[:, 0]:\n",
            "tensor([-0.4035, -0.3564,  0.9576, -1.1422, -1.1017])\n",
            "\n",
            "\n",
            "x[:, 1]:\n",
            "tensor([-1.4330, -1.3759, -0.3695, -0.0755, -0.1432])\n",
            "\n",
            "\n"
          ],
          "name": "stdout"
        }
      ]
    },
    {
      "metadata": {
        "id": "HCChFcH8-afA",
        "colab_type": "text"
      },
      "cell_type": "markdown",
      "source": [
        "Resizing: If you want to resize/reshape tensor, you can use ``torch.view``:\n",
        "\n"
      ]
    },
    {
      "metadata": {
        "id": "Tt5jP0xD-afB",
        "colab_type": "code",
        "outputId": "f47d5ee2-c15f-47d3-adf2-d34ac8bc452d",
        "colab": {
          "base_uri": "https://localhost:8080/",
          "height": 215
        }
      },
      "cell_type": "code",
      "source": [
        "x = torch.randn(4, 4)\n",
        "print(x)\n",
        "print(\"\\n\")\n",
        "y = x.view(16)\n",
        "print(y)\n",
        "print(\"\\n\")\n",
        "z = x.view(-1, 8)  # the size -1 is inferred from other dimensions\n",
        "print(x.size(), y.size(), z.size())"
      ],
      "execution_count": 15,
      "outputs": [
        {
          "output_type": "stream",
          "text": [
            "tensor([[-0.4533, -0.2083, -0.0097,  0.5168],\n",
            "        [-0.0384, -0.7657, -0.4717, -0.9248],\n",
            "        [ 1.0815,  0.6098,  1.9231,  1.7882],\n",
            "        [ 0.6045, -0.2546, -0.0214,  0.5986]])\n",
            "\n",
            "\n",
            "tensor([-0.4533, -0.2083, -0.0097,  0.5168, -0.0384, -0.7657, -0.4717, -0.9248,\n",
            "         1.0815,  0.6098,  1.9231,  1.7882,  0.6045, -0.2546, -0.0214,  0.5986])\n",
            "\n",
            "\n",
            "torch.Size([4, 4]) torch.Size([16]) torch.Size([2, 8])\n"
          ],
          "name": "stdout"
        }
      ]
    },
    {
      "metadata": {
        "id": "sZyoN02b-afE",
        "colab_type": "text"
      },
      "cell_type": "markdown",
      "source": [
        "If you have a one element tensor, use ``.item()`` to get the value as a\n",
        "Python number\n",
        "\n"
      ]
    },
    {
      "metadata": {
        "id": "pM6QL6PI-afF",
        "colab_type": "code",
        "outputId": "9bb01e9c-7a28-4ff3-8744-6d7cd4f7067d",
        "colab": {
          "base_uri": "https://localhost:8080/",
          "height": 53
        }
      },
      "cell_type": "code",
      "source": [
        "x = torch.randn(1)\n",
        "print(x)\n",
        "print(x.item())"
      ],
      "execution_count": 16,
      "outputs": [
        {
          "output_type": "stream",
          "text": [
            "tensor([0.5027])\n",
            "0.5027287602424622\n"
          ],
          "name": "stdout"
        }
      ]
    },
    {
      "metadata": {
        "id": "gYpZwyW8-afH",
        "colab_type": "text"
      },
      "cell_type": "markdown",
      "source": [
        "**Read later:**\n",
        "\n",
        "\n",
        "  100+ Tensor operations, including transposing, indexing, slicing,\n",
        "  mathematical operations, linear algebra, random numbers, etc.,\n",
        "  are described\n",
        "  `here <http://pytorch.org/docs/torch>`_.\n",
        "\n",
        "NumPy Bridge\n",
        "------------\n",
        "\n",
        "Converting a Torch Tensor to a NumPy array and vice versa is a breeze.\n",
        "\n",
        "The Torch Tensor and NumPy array will share their underlying memory\n",
        "locations, and changing one will change the other.\n",
        "\n",
        "Converting a Torch Tensor to a NumPy Array\n",
        "^^^^^^^^^^^^^^^^^^^^^^^^^^^^^^^^^^^^^^^^^^\n",
        "\n"
      ]
    },
    {
      "metadata": {
        "id": "NbpSOKPL-afI",
        "colab_type": "code",
        "outputId": "4929b183-8c44-464a-b85c-c934d7dcd05f",
        "colab": {
          "base_uri": "https://localhost:8080/",
          "height": 35
        }
      },
      "cell_type": "code",
      "source": [
        "a = torch.ones(5)\n",
        "print(a)"
      ],
      "execution_count": 17,
      "outputs": [
        {
          "output_type": "stream",
          "text": [
            "tensor([1., 1., 1., 1., 1.])\n"
          ],
          "name": "stdout"
        }
      ]
    },
    {
      "metadata": {
        "id": "XTeLzlLE-afK",
        "colab_type": "code",
        "colab": {
          "base_uri": "https://localhost:8080/",
          "height": 35
        },
        "outputId": "2453cc9c-03d1-4895-ac55-f31ea1013233"
      },
      "cell_type": "code",
      "source": [
        "b = a.numpy()\n",
        "print(b)"
      ],
      "execution_count": 18,
      "outputs": [
        {
          "output_type": "stream",
          "text": [
            "[1. 1. 1. 1. 1.]\n"
          ],
          "name": "stdout"
        }
      ]
    },
    {
      "metadata": {
        "id": "JASF4fEp-afM",
        "colab_type": "text"
      },
      "cell_type": "markdown",
      "source": [
        "See how the numpy array changed in value.\n",
        "\n"
      ]
    },
    {
      "metadata": {
        "id": "2Zgen1uh-afN",
        "colab_type": "code",
        "colab": {
          "base_uri": "https://localhost:8080/",
          "height": 53
        },
        "outputId": "ba5ac01e-f939-4171-ebd4-cbfb82a1fe74"
      },
      "cell_type": "code",
      "source": [
        "a.add_(1)\n",
        "print(a)\n",
        "print(b)"
      ],
      "execution_count": 19,
      "outputs": [
        {
          "output_type": "stream",
          "text": [
            "tensor([2., 2., 2., 2., 2.])\n",
            "[2. 2. 2. 2. 2.]\n"
          ],
          "name": "stdout"
        }
      ]
    },
    {
      "metadata": {
        "id": "aavv_9UE-afQ",
        "colab_type": "text"
      },
      "cell_type": "markdown",
      "source": [
        "Converting NumPy Array to Torch Tensor\n",
        "^^^^^^^^^^^^^^^^^^^^^^^^^^^^^^^^^^^^^^\n",
        "See how changing the np array changed the Torch Tensor automatically\n",
        "\n"
      ]
    },
    {
      "metadata": {
        "id": "dBh2tVUU-afR",
        "colab_type": "code",
        "colab": {
          "base_uri": "https://localhost:8080/",
          "height": 53
        },
        "outputId": "a0bbe48a-d648-4ba8-94bd-4490d3efc60a"
      },
      "cell_type": "code",
      "source": [
        "import numpy as np\n",
        "a = np.ones(5)\n",
        "b = torch.from_numpy(a)\n",
        "np.add(a, 1, out=a)\n",
        "print(a)\n",
        "print(b)"
      ],
      "execution_count": 20,
      "outputs": [
        {
          "output_type": "stream",
          "text": [
            "[2. 2. 2. 2. 2.]\n",
            "tensor([2., 2., 2., 2., 2.], dtype=torch.float64)\n"
          ],
          "name": "stdout"
        }
      ]
    },
    {
      "metadata": {
        "id": "3Xx162BG-afT",
        "colab_type": "text"
      },
      "cell_type": "markdown",
      "source": [
        "All the Tensors on the CPU except a CharTensor support converting to\n",
        "NumPy and back.\n",
        "\n",
        "CUDA Tensors\n",
        "------------\n",
        "\n",
        "Tensors can be moved onto any device using the ``.to`` method.\n",
        "\n"
      ]
    },
    {
      "metadata": {
        "id": "3UBy-wN7-afU",
        "colab_type": "code",
        "colab": {
          "base_uri": "https://localhost:8080/",
          "height": 53
        },
        "outputId": "5c38afc0-062e-4667-df02-8fa060046d07"
      },
      "cell_type": "code",
      "source": [
        "# let us run this cell only if CUDA is available\n",
        "# We will use ``torch.device`` objects to move tensors in and out of GPU\n",
        "if torch.cuda.is_available():\n",
        "    device = torch.device(\"cuda\")          # a CUDA device object\n",
        "    y = torch.ones_like(x, device=device)  # directly create a tensor on GPU\n",
        "    x = x.to(device)                       # or just use strings ``.to(\"cuda\")``\n",
        "    z = x + y\n",
        "    print(z)\n",
        "    print(z.to(\"cpu\", torch.double))       # ``.to`` can also change dtype together!"
      ],
      "execution_count": 21,
      "outputs": [
        {
          "output_type": "stream",
          "text": [
            "tensor([1.5027], device='cuda:0')\n",
            "tensor([1.5027], dtype=torch.float64)\n"
          ],
          "name": "stdout"
        }
      ]
    }
  ]
}