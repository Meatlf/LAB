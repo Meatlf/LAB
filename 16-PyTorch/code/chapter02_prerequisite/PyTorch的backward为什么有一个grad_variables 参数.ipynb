{
 "cells": [
  {
   "cell_type": "markdown",
   "metadata": {},
   "source": [
    "# [PyTorch 的 backward 为什么有一个 grad_variables 参数?](https://zhuanlan.zhihu.com/p/29923090)"
   ]
  },
  {
   "cell_type": "code",
   "execution_count": 1,
   "metadata": {},
   "outputs": [],
   "source": [
    "import torch"
   ]
  },
  {
   "cell_type": "code",
   "execution_count": 2,
   "metadata": {},
   "outputs": [],
   "source": [
    "from torch.autograd import Variable"
   ]
  },
  {
   "cell_type": "code",
   "execution_count": 3,
   "metadata": {},
   "outputs": [],
   "source": [
    "x = Variable(torch.randn(3), requires_grad=True)\n",
    "y = Variable(torch.randn(3), requires_grad=True)\n",
    "z = Variable(torch.randn(3), requires_grad=True)"
   ]
  },
  {
   "cell_type": "code",
   "execution_count": 5,
   "metadata": {},
   "outputs": [
    {
     "name": "stdout",
     "output_type": "stream",
     "text": [
      "tensor([-0.9992,  1.8910,  0.4474], requires_grad=True)\n",
      "tensor([ 0.2450, -1.2913,  2.2724], requires_grad=True)\n",
      "tensor([ 0.0119, -0.6289,  0.0733], requires_grad=True)\n"
     ]
    }
   ],
   "source": [
    "print(x)\n",
    "print(y)\n",
    "print(z)"
   ]
  },
  {
   "cell_type": "code",
   "execution_count": 6,
   "metadata": {},
   "outputs": [],
   "source": [
    "t = x + y"
   ]
  },
  {
   "cell_type": "code",
   "execution_count": 7,
   "metadata": {},
   "outputs": [],
   "source": [
    "l = t.dot(z)"
   ]
  },
  {
   "cell_type": "code",
   "execution_count": 8,
   "metadata": {},
   "outputs": [
    {
     "name": "stdout",
     "output_type": "stream",
     "text": [
      "tensor([ 0.0119, -0.6289,  0.0733])\n",
      "tensor([ 0.0119, -0.6289,  0.0733])\n",
      "tensor([ 0.0119, -0.6289,  0.0733], requires_grad=True)\n"
     ]
    }
   ],
   "source": [
    "l.backward(retain_graph=True)\n",
    "print(x.grad)\n",
    "print(y.grad)\n",
    "print(z)"
   ]
  },
  {
   "cell_type": "code",
   "execution_count": 9,
   "metadata": {},
   "outputs": [
    {
     "name": "stdout",
     "output_type": "stream",
     "text": [
      "tensor([-0.7541,  0.5998,  2.7198])\n",
      "tensor([-0.7541,  0.5998,  2.7198], grad_fn=<AddBackward0>)\n"
     ]
    }
   ],
   "source": [
    "print(z.grad)\n",
    "print(t)"
   ]
  },
  {
   "cell_type": "code",
   "execution_count": 10,
   "metadata": {},
   "outputs": [
    {
     "name": "stdout",
     "output_type": "stream",
     "text": [
      "tensor([ 0.0119, -0.6289,  0.0733])\n",
      "tensor([ 0.0119, -0.6289,  0.0733])\n"
     ]
    }
   ],
   "source": [
    "x.grad.data.zero_()\n",
    "y.grad.data.zero_()\n",
    "z.grad.data.zero_()\n",
    "\n",
    "t.backward(z)\n",
    "print(x.grad)\n",
    "print(y.grad)"
   ]
  }
 ],
 "metadata": {
  "kernelspec": {
   "display_name": "Python 3",
   "language": "python",
   "name": "python3"
  },
  "language_info": {
   "codemirror_mode": {
    "name": "ipython",
    "version": 3
   },
   "file_extension": ".py",
   "mimetype": "text/x-python",
   "name": "python",
   "nbconvert_exporter": "python",
   "pygments_lexer": "ipython3",
   "version": "3.7.4"
  }
 },
 "nbformat": 4,
 "nbformat_minor": 2
}
