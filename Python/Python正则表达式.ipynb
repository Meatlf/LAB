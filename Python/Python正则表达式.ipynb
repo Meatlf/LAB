{
 "cells": [
  {
   "cell_type": "markdown",
   "metadata": {
    "collapsed": true
   },
   "source": [
    "# Python正则表达式"
   ]
  },
  {
   "cell_type": "markdown",
   "metadata": {},
   "source": [
    "### 正则表达式语法\n",
    "[正则表达式](https://www.liaoxuefeng.com/wiki/001374738125095c955c1e6d8bb493182103fac9270762a000/001386832260566c26442c671fa489ebc6fe85badda25cd000 \"标题\")\n"
   ]
  },
  {
   "cell_type": "code",
   "execution_count": 25,
   "metadata": {
    "collapsed": true
   },
   "outputs": [],
   "source": [
    "#!/usr/bin/python\n",
    "# -*- coding: UTF-8 -*-\n",
    "import re"
   ]
  },
  {
   "cell_type": "markdown",
   "metadata": {},
   "source": [
    "## re.match函数\n",
    "### 功能：  \n",
    "判断是否匹配成功\n",
    "### 语法：\n",
    "*re.match(pattern, string, flags=0)* \n",
    "\n",
    "| 参数 | 描述 |\n",
    "| ------ | ------ |\n",
    "| pattern | 待匹配的正则表达式|\n",
    "| string | 要匹配的字符串|\n",
    "|flags|见参考资料|\n",
    "|返回|查找到的字符串区间|"
   ]
  },
  {
   "cell_type": "code",
   "execution_count": 27,
   "metadata": {},
   "outputs": [
    {
     "name": "stdout",
     "output_type": "stream",
     "text": [
      "(0, 4)\n",
      "None\n",
      "(0, 8)\n"
     ]
    }
   ],
   "source": [
    "print(re.match(r'www.','www.runoob.com').span()) # 在起始位置匹配\n",
    "print(re.match(r'.com','www.runoob.com')) # 不在起始位置匹配\n",
    "print(re.match(r'\\d{3}\\-\\d{3,8}$','010-1234').span())"
   ]
  },
  {
   "cell_type": "markdown",
   "metadata": {
    "collapsed": true
   },
   "source": [
    "### 问 ：如何理解 pat = r'/([^/]+)_\\d+.jpg$'\n",
    "### 答：表示这种格式的文件：/root/.fastai/data/oxford-iiit-pet/images/Birman_154.jpg"
   ]
  },
  {
   "cell_type": "code",
   "execution_count": 4,
   "metadata": {
    "collapsed": true
   },
   "outputs": [],
   "source": []
  },
  {
   "cell_type": "code",
   "execution_count": 5,
   "metadata": {
    "collapsed": true
   },
   "outputs": [],
   "source": []
  },
  {
   "cell_type": "code",
   "execution_count": null,
   "metadata": {
    "collapsed": true
   },
   "outputs": [],
   "source": []
  }
 ],
 "metadata": {
  "kernelspec": {
   "display_name": "Python 3",
   "language": "python",
   "name": "python3"
  },
  "language_info": {
   "codemirror_mode": {
    "name": "ipython",
    "version": 3
   },
   "file_extension": ".py",
   "mimetype": "text/x-python",
   "name": "python",
   "nbconvert_exporter": "python",
   "pygments_lexer": "ipython3",
   "version": "3.6.1"
  }
 },
 "nbformat": 4,
 "nbformat_minor": 2
}
